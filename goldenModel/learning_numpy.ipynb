{
 "cells": [
  {
   "cell_type": "markdown",
   "source": [
    "source: [NumPy: the absolute basics for beginners](https://numpy.org/doc/stable/user/absolute_beginners.html)"
   ],
   "metadata": {
    "collapsed": false
   }
  },
  {
   "cell_type": "code",
   "execution_count": 8,
   "outputs": [],
   "source": [
    "import numpy as np"
   ],
   "metadata": {
    "collapsed": false
   }
  },
  {
   "cell_type": "markdown",
   "source": [
    "## Creating Arrays\n",
    "### from literal"
   ],
   "metadata": {
    "collapsed": false
   }
  },
  {
   "cell_type": "code",
   "execution_count": 9,
   "outputs": [
    {
     "name": "stdout",
     "output_type": "stream",
     "text": [
      "[[1 2 3]\n",
      " [4 5 6]]\n"
     ]
    }
   ],
   "source": [
    "a = np.array([[1, 2, 3], [4, 5, 6]])\n",
    "print(a)"
   ],
   "metadata": {
    "collapsed": false
   }
  },
  {
   "cell_type": "markdown",
   "source": [
    "### from factories"
   ],
   "metadata": {
    "collapsed": false
   }
  },
  {
   "cell_type": "code",
   "execution_count": 10,
   "outputs": [
    {
     "name": "stdout",
     "output_type": "stream",
     "text": [
      "[0. 0.]\n",
      "[1. 1.]\n",
      "[1. 1.]\n",
      "[2 4 6 8]\n",
      "[ 0.   2.5  5.   7.5 10. ]\n",
      "[1 1]\n"
     ]
    }
   ],
   "source": [
    "b = np.zeros(2)\n",
    "print(b)\n",
    "c = np.ones(2)\n",
    "print(c)\n",
    "d = np.empty(2)\n",
    "print(d)\n",
    "e = np.arange(2, 9, 2)  # start, end, step\n",
    "print(e)\n",
    "f = np.linspace(0, 10, 5)  # start, end, num\n",
    "print(f)\n",
    "g = np.ones(2, dtype=np.int64)  # with specific data type\n",
    "print(g)"
   ],
   "metadata": {
    "collapsed": false
   }
  },
  {
   "cell_type": "markdown",
   "source": [
    "### from file on disk"
   ],
   "metadata": {
    "collapsed": false
   }
  },
  {
   "cell_type": "code",
   "execution_count": 11,
   "outputs": [
    {
     "ename": "FileNotFoundError",
     "evalue": "[Errno 2] No such file or directory: '/home/ltr/IdeaProjects/Chainsaw/ndarray.npy'",
     "output_type": "error",
     "traceback": [
      "\u001B[0;31m---------------------------------------------------------------------------\u001B[0m",
      "\u001B[0;31mFileNotFoundError\u001B[0m                         Traceback (most recent call last)",
      "\u001B[0;32m/tmp/ipykernel_4429/3678625253.py\u001B[0m in \u001B[0;36m<module>\u001B[0;34m\u001B[0m\n\u001B[0;32m----> 1\u001B[0;31m \u001B[0mnpy\u001B[0m \u001B[0;34m=\u001B[0m \u001B[0mnp\u001B[0m\u001B[0;34m.\u001B[0m\u001B[0mload\u001B[0m\u001B[0;34m(\u001B[0m\u001B[0;34m'/home/ltr/IdeaProjects/Chainsaw/ndarray.npy'\u001B[0m\u001B[0;34m)\u001B[0m\u001B[0;34m\u001B[0m\u001B[0;34m\u001B[0m\u001B[0m\n\u001B[0m\u001B[1;32m      2\u001B[0m \u001B[0mprint\u001B[0m\u001B[0;34m(\u001B[0m\u001B[0mnpy\u001B[0m\u001B[0;34m.\u001B[0m\u001B[0mfiles\u001B[0m\u001B[0;34m)\u001B[0m\u001B[0;34m\u001B[0m\u001B[0;34m\u001B[0m\u001B[0m\n\u001B[1;32m      3\u001B[0m \u001B[0mprint\u001B[0m\u001B[0;34m(\u001B[0m\u001B[0mnpy\u001B[0m\u001B[0;34m[\u001B[0m\u001B[0;34m'arr_0'\u001B[0m\u001B[0;34m]\u001B[0m\u001B[0;34m)\u001B[0m\u001B[0;34m\u001B[0m\u001B[0;34m\u001B[0m\u001B[0m\n",
      "\u001B[0;32m~/anaconda3/lib/python3.9/site-packages/numpy/lib/npyio.py\u001B[0m in \u001B[0;36mload\u001B[0;34m(file, mmap_mode, allow_pickle, fix_imports, encoding)\u001B[0m\n\u001B[1;32m    415\u001B[0m             \u001B[0mown_fid\u001B[0m \u001B[0;34m=\u001B[0m \u001B[0;32mFalse\u001B[0m\u001B[0;34m\u001B[0m\u001B[0;34m\u001B[0m\u001B[0m\n\u001B[1;32m    416\u001B[0m         \u001B[0;32melse\u001B[0m\u001B[0;34m:\u001B[0m\u001B[0;34m\u001B[0m\u001B[0;34m\u001B[0m\u001B[0m\n\u001B[0;32m--> 417\u001B[0;31m             \u001B[0mfid\u001B[0m \u001B[0;34m=\u001B[0m \u001B[0mstack\u001B[0m\u001B[0;34m.\u001B[0m\u001B[0menter_context\u001B[0m\u001B[0;34m(\u001B[0m\u001B[0mopen\u001B[0m\u001B[0;34m(\u001B[0m\u001B[0mos_fspath\u001B[0m\u001B[0;34m(\u001B[0m\u001B[0mfile\u001B[0m\u001B[0;34m)\u001B[0m\u001B[0;34m,\u001B[0m \u001B[0;34m\"rb\"\u001B[0m\u001B[0;34m)\u001B[0m\u001B[0;34m)\u001B[0m\u001B[0;34m\u001B[0m\u001B[0;34m\u001B[0m\u001B[0m\n\u001B[0m\u001B[1;32m    418\u001B[0m             \u001B[0mown_fid\u001B[0m \u001B[0;34m=\u001B[0m \u001B[0;32mTrue\u001B[0m\u001B[0;34m\u001B[0m\u001B[0;34m\u001B[0m\u001B[0m\n\u001B[1;32m    419\u001B[0m \u001B[0;34m\u001B[0m\u001B[0m\n",
      "\u001B[0;31mFileNotFoundError\u001B[0m: [Errno 2] No such file or directory: '/home/ltr/IdeaProjects/Chainsaw/ndarray.npy'"
     ]
    }
   ],
   "source": [
    "npy = np.load('/home/ltr/IdeaProjects/Chainsaw/ndarray.npy')\n",
    "print(npy.files)\n",
    "print(npy['arr_0'])"
   ],
   "metadata": {
    "collapsed": false
   }
  },
  {
   "cell_type": "markdown",
   "source": [
    "## Manipulating Arrays"
   ],
   "metadata": {
    "collapsed": false
   }
  },
  {
   "cell_type": "code",
   "execution_count": null,
   "outputs": [],
   "source": [
    "arr = np.array([2, 1, 5, 3, 7, 4, 6, 8])\n",
    "sortedArr = np.sort(arr)  # in-place sorting\n",
    "print(arr)\n",
    "print(sortedArr)"
   ],
   "metadata": {
    "collapsed": false
   }
  },
  {
   "cell_type": "markdown",
   "source": [
    "in addition, Numpy implements:\n",
    "- argsort\n",
    "- lexsort\n",
    "- searchsorted\n",
    "- partition"
   ],
   "metadata": {
    "collapsed": false
   }
  },
  {
   "cell_type": "code",
   "execution_count": null,
   "outputs": [],
   "source": [
    "a = np.array([1, 2, 3, 4])\n",
    "b = np.array([5, 6, 7, 8])\n",
    "print(np.concatenate((a, b)))"
   ],
   "metadata": {
    "collapsed": false
   }
  },
  {
   "cell_type": "markdown",
   "source": [
    "`print(np.concatenate((a, b), axis=1))`\n",
    "error! you cannot build a 2-D array by concatenation of 1-D arrays"
   ],
   "metadata": {
    "collapsed": false
   }
  },
  {
   "cell_type": "code",
   "execution_count": null,
   "outputs": [],
   "source": [
    "a = np.array([[1, 2, 3], [4, 5, 6]])\n",
    "print(a)\n",
    "reshaped = a.reshape(3, 2)\n",
    "print(a)  # reshape is not in-place\n",
    "print(reshaped)  # arrays in Numpy is in row-major order by default\n",
    "print(np.reshape(a, (3, 2),\n",
    "                 'F'))  # with np.reshape, you can use row-major(C-like) or column-major(Fortran-like/Matlab-like) order"
   ],
   "metadata": {
    "collapsed": false
   }
  },
  {
   "cell_type": "code",
   "execution_count": null,
   "outputs": [],
   "source": [
    "a = np.array([1, 2, 3, 4, 5, 6])\n",
    "a2 = a[np.newaxis, :]  # a row vector\n",
    "print(a2)\n",
    "a2Another = np.expand_dims(a, axis=0)\n",
    "print(a2Another)\n",
    "a3 = a[:, np.newaxis]  # a column vector\n",
    "print(a3)\n",
    "a3Another = np.expand_dims(a, axis=1)\n",
    "print(a3Another)\n",
    "a4 = a.repeat(3)\n",
    "print(a4)"
   ],
   "metadata": {
    "collapsed": false
   }
  },
  {
   "cell_type": "markdown",
   "source": [
    "1-D array is neither row vector nor column vector in Numpy, while they're regarded as column vectors by default in Matlab"
   ],
   "metadata": {
    "collapsed": false
   }
  },
  {
   "cell_type": "code",
   "execution_count": null,
   "outputs": [],
   "source": [
    "a = np.array([[1, 2, 3], [4, 5, 6]])\n",
    "print(a.transpose())\n",
    "print(a.T)\n",
    "print(np.flip(a)) # for all dimensions\n",
    "print(np.flip(a, axis=0)) # for specific dimension"
   ],
   "metadata": {
    "collapsed": false
   }
  },
  {
   "cell_type": "code",
   "execution_count": null,
   "outputs": [],
   "source": [
    "print(a.flatten()) # deep copy\n",
    "print(a.ravel()) # shallow copy"
   ],
   "metadata": {
    "collapsed": false
   }
  },
  {
   "cell_type": "markdown",
   "source": [
    "## Array Attributes"
   ],
   "metadata": {
    "collapsed": false
   }
  },
  {
   "cell_type": "code",
   "execution_count": null,
   "outputs": [],
   "source": [
    "arrayExample = np.array([[[0, 1, 2, 3],\n",
    "                          [4, 5, 6, 7]],\n",
    "\n",
    "                         [[0, 1, 2, 3],\n",
    "                          [4, 5, 6, 7]],\n",
    "\n",
    "                         [[0, 1, 2, 3],\n",
    "                          [4, 5, 6, 7]]])\n",
    "print(arrayExample.ndim)\n",
    "print(arrayExample.size)\n",
    "print(arrayExample.shape)"
   ],
   "metadata": {
    "collapsed": false
   }
  },
  {
   "cell_type": "markdown",
   "source": [
    "## Array Indexing and Slicing\n",
    "### indexing"
   ],
   "metadata": {
    "collapsed": false
   }
  },
  {
   "cell_type": "code",
   "execution_count": null,
   "outputs": [],
   "source": [
    "data = np.array([[1, 2, 3], [4, 5, 6], [7, 8, 9]])\n",
    "print(data)\n",
    "\n",
    "print(data[1, 1])  # element\n",
    "print(data[1:3, 0:2])  # sub-array\n",
    "\n",
    "print(data[0:2])  # when number of coordinates is less than ndim\n",
    "print(data[:, 0:2])\n",
    "\n",
    "print(data[:2, :])  # first n elements\n",
    "print(data[-2:, :])  # last n elements"
   ],
   "metadata": {
    "collapsed": false
   }
  },
  {
   "cell_type": "markdown",
   "source": [
    "### indexing by filtering"
   ],
   "metadata": {
    "collapsed": false
   }
  },
  {
   "cell_type": "code",
   "execution_count": null,
   "outputs": [],
   "source": [
    "mask = (data > 5)\n",
    "print(mask)\n",
    "print(data[mask])  # filtered & flattened\n",
    "print(data[(data > 2) & (data < 8)])\n",
    "print(data[(data > 2) | (data < 8)])\n",
    "\n",
    "coords = np.nonzero(data > 5)  # coords of filtered elements\n",
    "print(coords)  # containing n arrays for n dimensions\n",
    "coords2D = list(zip(coords[0], coords[1]))\n",
    "for coord2D in coords2D:\n",
    "    print(coord2D)\n",
    "    print(data[coord2D])\n",
    "data[coords]  # indexing by coords"
   ],
   "metadata": {
    "collapsed": false
   }
  },
  {
   "cell_type": "markdown",
   "source": [
    "### Slicing"
   ],
   "metadata": {
    "collapsed": false
   }
  },
  {
   "cell_type": "code",
   "execution_count": null,
   "outputs": [],
   "source": [
    "row0 = data[0, :]\n",
    "print(row0)\n",
    "row1 = data[1, :]\n",
    "print(row1)\n",
    "\n",
    "v = np.vstack((row0, row1))\n",
    "h = np.hstack((row0, row1))\n",
    "print(v)\n",
    "print(h)\n",
    "\n",
    "print(np.hsplit(v, 3))\n",
    "print(np.vsplit(v, 2))\n",
    "\n",
    "data[0, 0] = 100\n",
    "print(row0)  # slicing is implemented by shallow copy\n",
    "print(v)  # deep copy\n",
    "print(h)  # deep copy\n",
    "\n",
    "dataAnother = data.copy()  # deep copy\n",
    "dataAnother[0, 0] = 99\n",
    "print(dataAnother)\n",
    "print(data)\n",
    "data[0, 0] = 1"
   ],
   "metadata": {
    "collapsed": false
   }
  },
  {
   "cell_type": "markdown",
   "source": [
    "NumPy functions, as well as operations like indexing and slicing, will return views whenever possible."
   ],
   "metadata": {
    "collapsed": false
   }
  },
  {
   "cell_type": "markdown",
   "source": [
    "## Numeric Operations on Arrays\n",
    "### (element-wise)operations between arrays of same sizes"
   ],
   "metadata": {
    "collapsed": false
   }
  },
  {
   "cell_type": "code",
   "execution_count": null,
   "outputs": [],
   "source": [
    "print(data)\n",
    "print(data + np.ones((3, 3)))\n",
    "print(data - np.ones((3, 3)))\n",
    "print(data * data)  # element-wise multiplication\n",
    "print(data / data)  # ...\n",
    "print(data.sum(axis=0))  # sum along columns\n",
    "print(data.prod(axis=1))  # prod along rows"
   ],
   "metadata": {
    "collapsed": false
   }
  },
  {
   "cell_type": "markdown",
   "source": [
    "### broadcasting"
   ],
   "metadata": {
    "collapsed": false
   }
  },
  {
   "cell_type": "code",
   "execution_count": null,
   "outputs": [],
   "source": [
    "print(data * 3.0)  # array-scalar\n",
    "vector = np.array([1, 2, 3])\n",
    "print(\n",
    "    data * vector)  # matrix-row vector, as 1-D array is expanded to a 2-D array by expanding dimension after the first dimension(row)\n",
    "print(data * vector[np.newaxis, :])  # matrix-column vector"
   ],
   "metadata": {
    "collapsed": false
   }
  },
  {
   "cell_type": "markdown",
   "source": [
    "Broadcasting is a mechanism that allows NumPy to perform operations on arrays of different shapes. The \"smaller\" array will be \"repeated\" to have the same size as the \"bigger\" one."
   ],
   "metadata": {
    "collapsed": false
   }
  },
  {
   "cell_type": "code",
   "execution_count": null,
   "outputs": [],
   "source": [
    "# details of broadcasting\n",
    "vector = np.array([1, 2, 3])  # size = (3,)\n",
    "vector = np.expand_dims(vector, 0)  # size = (3,1)\n",
    "print(vector)\n",
    "vector = np.repeat(vector, 3, axis=0)  # size = (3,3)\n",
    "print(vector)\n",
    "print(data * vector)"
   ],
   "metadata": {
    "collapsed": false
   }
  },
  {
   "cell_type": "code",
   "execution_count": null,
   "outputs": [],
   "source": [
    "vector = np.array([1, 2, 3, 4])\n",
    "print(data * vector)  # error, the size is not compatible for broadcasting"
   ],
   "metadata": {
    "collapsed": false
   }
  },
  {
   "cell_type": "markdown",
   "source": [
    "### min/max"
   ],
   "metadata": {
    "collapsed": false
   }
  },
  {
   "cell_type": "code",
   "execution_count": null,
   "outputs": [],
   "source": [
    "print(data.max(axis=0)) # max along columns\n",
    "print(data.min(axis=1)) # ..."
   ],
   "metadata": {
    "collapsed": false
   }
  },
  {
   "cell_type": "markdown",
   "source": [
    "### uniqueness"
   ],
   "metadata": {
    "collapsed": false
   }
  },
  {
   "cell_type": "code",
   "execution_count": null,
   "outputs": [],
   "source": [
    "data = np.array([11, 11, 12, 13, 14, 15, 16, 17, 12, 13, 11, 14, 18, 19, 20])\n",
    "print(np.unique(data)) # flattened\n",
    "unique_values, indices_list = np.unique(data, return_index=True)\n",
    "print(indices_list)\n",
    "unique_values, occurrence_count = np.unique(data, return_counts=True)\n",
    "print(occurrence_count)\n",
    "\n",
    "data2d = np.array([[1, 2, 3, 4], [5, 6, 7, 8], [9, 10, 11, 12], [1, 2, 3, 4]])\n",
    "print(np.unique(data2d, axis=0))"
   ],
   "metadata": {
    "collapsed": false
   }
  },
  {
   "cell_type": "markdown",
   "source": [
    "## Random Numbers"
   ],
   "metadata": {
    "collapsed": false
   }
  },
  {
   "cell_type": "code",
   "execution_count": null,
   "outputs": [],
   "source": [
    "rng = np.random.default_rng()\n",
    "print(rng.random(3))\n",
    "print(rng.random((3,3)))"
   ],
   "metadata": {
    "collapsed": false
   }
  },
  {
   "cell_type": "markdown",
   "source": [
    "## Persistence\n",
    "### .npy/.npz"
   ],
   "metadata": {
    "collapsed": false
   }
  },
  {
   "cell_type": "code",
   "execution_count": null,
   "outputs": [],
   "source": [
    "a = np.array([1, 2, 3, 4, 5, 6])\n",
    "b = np.flip(a)\n",
    "np.save('a.npy', a) # .npy for single array\n",
    "recovered = np.load('a.npy')\n",
    "print(recovered)\n",
    "np.savez('all.npz', a, b) # .npz for multiple arrays\n",
    "allRecovered = np.load('all.npz')\n",
    "print(allRecovered['arr_0'])\n",
    "print(allRecovered['arr_1'])\n",
    "\n",
    "fromJava = np.load('/home/ltr/IdeaProjects/Chainsaw/ndarray.npz')\n",
    "print(fromJava['arr_0'])"
   ],
   "metadata": {
    "collapsed": false
   }
  },
  {
   "cell_type": "markdown",
   "source": [
    "## Plotting Arrays"
   ],
   "metadata": {
    "collapsed": false
   }
  },
  {
   "cell_type": "code",
   "execution_count": null,
   "outputs": [],
   "source": [
    "import matplotlib.pyplot as plt\n",
    "\n",
    "a = np.array([2, 1, 5, 7, 4, 6, 8, 14, 10, 9, 18, 20, 22])\n",
    "plt.plot(a)\n",
    "\n",
    "fig = plt.figure()\n",
    "ax = fig.add_subplot(projection='3d')\n",
    "X = np.arange(-5, 5, 0.15)\n",
    "Y = np.arange(-5, 5, 0.15)\n",
    "X, Y = np.meshgrid(X, Y)\n",
    "R = np.sqrt(X**2 + Y**2)\n",
    "Z = np.sin(R)\n",
    "\n",
    "ax.plot_surface(X, Y, Z, rstride=1, cstride=1, cmap='viridis')"
   ],
   "metadata": {
    "collapsed": false
   }
  },
  {
   "cell_type": "markdown",
   "source": [
    "# Universal functions (ufunc) basics\n",
    "\n",
    "source: [Universal functions (ufunc) basics](https://numpy.org/doc/stable/user/basics.ufuncs.html)\n",
    "\n",
    "a ufunc is a “vectorized” wrapper for a function that takes a fixed number of specific inputs and produces a fixed number of specific outputs."
   ],
   "metadata": {
    "collapsed": false
   }
  },
  {
   "cell_type": "markdown",
   "source": [
    "## Ufunc methods\n",
    "All ufuncs have four methods. They can be found at Methods. However, these methods only make sense on scalar ufuncs that take two input arguments and return one output argument(a binary operator).\n",
    "The reduce-like methods all take an axis keyword, a dtype keyword, and an out keyword, and the arrays must all have dimension >= 1.\n",
    "### reduce and accumulate"
   ],
   "metadata": {
    "collapsed": false
   }
  },
  {
   "cell_type": "code",
   "execution_count": null,
   "outputs": [],
   "source": [
    "x = np.arange(9).reshape(3,3)\n",
    "print(x)\n",
    "print(np.add.reduce(x, 0)) # along columns = reduce in Scala\n",
    "print(np.add.reduce(x, 1)) # along rows\n",
    "print(np.add.accumulate(x, 0)) # = scan in Scala"
   ],
   "metadata": {
    "collapsed": false
   }
  },
  {
   "cell_type": "markdown",
   "source": [
    "### outer\n",
    "Let M = A.ndim, N = B.ndim. Then the result, C, of op.outer(A, B) is an array of dimension M + N such that:\n",
    "$C\\left[i_0, \\ldots, i_{M-1}, j_0, \\ldots, j_{N-1}\\right]=o p\\left(A\\left[i_0, \\ldots, i_{M-1}\\right], B\\left[j_0, \\ldots, j_{N-1}\\right]\\right)$"
   ],
   "metadata": {
    "collapsed": false
   }
  },
  {
   "cell_type": "code",
   "execution_count": 12,
   "outputs": [
    {
     "data": {
      "text/plain": "array([[ 4,  5,  6],\n       [ 8, 10, 12],\n       [12, 15, 18]])"
     },
     "execution_count": 12,
     "metadata": {},
     "output_type": "execute_result"
    }
   ],
   "source": [
    "np.multiply.outer([1, 2, 3], [4, 5, 6]) # similar to tabulate"
   ],
   "metadata": {
    "collapsed": false
   }
  },
  {
   "cell_type": "code",
   "execution_count": null,
   "outputs": [],
   "source": [
    "# For i in range(len(indices)), reduceat computes ufunc.reduce(array[indices[i]:indices[i+1]])\n",
    "x = np.linspace(0, 15, 16).reshape(4,4)\n",
    "print(x)\n",
    "# reduce such that the result has the following five rows:\n",
    "# [row1 + row2 + row3]\n",
    "# [row4]\n",
    "# [row2]\n",
    "# [row3]\n",
    "# [row1 + row2 + row3 + row4]\n",
    "print(np.add.reduceat(x, indices=[0,3,1,2,0], axis=0))"
   ],
   "metadata": {
    "collapsed": false
   }
  }
 ],
 "metadata": {
  "kernelspec": {
   "display_name": "Python 3",
   "language": "python",
   "name": "python3"
  },
  "language_info": {
   "codemirror_mode": {
    "name": "ipython",
    "version": 2
   },
   "file_extension": ".py",
   "mimetype": "text/x-python",
   "name": "python",
   "nbconvert_exporter": "python",
   "pygments_lexer": "ipython2",
   "version": "2.7.6"
  }
 },
 "nbformat": 4,
 "nbformat_minor": 0
}
